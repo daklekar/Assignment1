{
 "cells": [
  {
   "cell_type": "markdown",
   "metadata": {},
   "source": [
    "\n",
    "# **Research Tools and Technologies**\n",
    "## **Assignment-1**\n",
    "##### daklekar@uncc.edu\n",
    "### **Create a Python program creates a Binary Tree data structure.**\n",
    "   * For this assignment, you need to create your own class and you are not allowed to use an existing Python library (like the binarytree library, for example) for the functionality.\n",
    "   * The information to be stored is just an integer.\n",
    "   * Only two operations are required: insert() and display()\n",
    "      1. insert() takes one argument (an integer) to store the value\n",
    "      2. display() takes no arguments and uses the built-in print() function to display the stored integer values in increasing order\n",
    "   * You are to implement this as collection of objects and not simply as a sorted list.\n"
   ]
  },
  {
   "cell_type": "code",
   "execution_count": 42,
   "metadata": {},
   "outputs": [],
   "source": [
    "class Node:\n",
    "    def __init__(self, val):\n",
    "        self.left = None\n",
    "        self.right = None\n",
    "        self.key = val\n",
    "    def display(self):  \n",
    "        print(self.key)  \n",
    "        return self.key\n",
    "\n",
    "        \n",
    "    \n",
    "  "
   ]
  },
  {
   "cell_type": "code",
   "execution_count": null,
   "metadata": {},
   "outputs": [],
   "source": []
  },
  {
   "cell_type": "code",
   "execution_count": null,
   "metadata": {},
   "outputs": [],
   "source": []
  },
  {
   "cell_type": "code",
   "execution_count": 52,
   "metadata": {},
   "outputs": [],
   "source": [
    "class BinaryTree:\n",
    "    def __init__(self):\n",
    "        self.root = None\n",
    "\n",
    "    def insert(self, dummy):\n",
    "        if (self.root == None):\n",
    "            self.root = Node(dummy)\n",
    "            self.base = self.root\n",
    "        else:\n",
    "        \n",
    "            if dummy > self.base.key:            \n",
    "                if self.base.right == None:\n",
    "                    self.base.right = Node(dummy)\n",
    "                else:\n",
    "                    self.base = self.base.right\n",
    "                    self.insert(dummy)\n",
    "            if dummy <= self.base.key:\n",
    "                if self.base.left == None:\n",
    "                    self.base.left = Node(dummy)\n",
    "                else:\n",
    "                    self.base = self.base.left\n",
    "                    self.insert(dummy)\n",
    "    \n",
    "\n",
    "    def display(self):\n",
    "        stack = []\n",
    "        current = self.root\n",
    "\n",
    "        while True:\n",
    "            if current:\n",
    "                stack.append(current)\n",
    "                current = current.left\n",
    "            elif stack:\n",
    "                current = stack.pop()\n",
    "                print(current.value, end=' ')\n",
    "                current = current.right\n",
    "            else:\n",
    "                break\n",
    "        print()"
   ]
  },
  {
   "cell_type": "code",
   "execution_count": 55,
   "metadata": {},
   "outputs": [],
   "source": [
    "BT_1 = BinaryTree()\n",
    "BT_1.insert(5)\n",
    "BT_1.insert(4)\n",
    "BT_1.insert(8)\n",
    "BT_1.insert(5)"
   ]
  },
  {
   "cell_type": "code",
   "execution_count": 56,
   "metadata": {},
   "outputs": [
    {
     "ename": "AttributeError",
     "evalue": "'Node' object has no attribute 'value'",
     "output_type": "error",
     "traceback": [
      "\u001b[0;31m---------------------------------------------------------------------------\u001b[0m",
      "\u001b[0;31mAttributeError\u001b[0m                            Traceback (most recent call last)",
      "\u001b[1;32m/Users/dhruvakumaraklekar/vscode/Research Tools and Technologies/Assignment1/Assignment1/Assignment-1.ipynb Cell 7\u001b[0m line \u001b[0;36m1\n\u001b[0;32m----> <a href='vscode-notebook-cell:/Users/dhruvakumaraklekar/vscode/Research%20Tools%20and%20Technologies/Assignment1/Assignment1/Assignment-1.ipynb#X14sZmlsZQ%3D%3D?line=0'>1</a>\u001b[0m BT_1\u001b[39m.\u001b[39;49mdisplay()\n",
      "\u001b[1;32m/Users/dhruvakumaraklekar/vscode/Research Tools and Technologies/Assignment1/Assignment1/Assignment-1.ipynb Cell 7\u001b[0m line \u001b[0;36m3\n\u001b[1;32m     <a href='vscode-notebook-cell:/Users/dhruvakumaraklekar/vscode/Research%20Tools%20and%20Technologies/Assignment1/Assignment1/Assignment-1.ipynb#X14sZmlsZQ%3D%3D?line=32'>33</a>\u001b[0m \u001b[39melif\u001b[39;00m stack:\n\u001b[1;32m     <a href='vscode-notebook-cell:/Users/dhruvakumaraklekar/vscode/Research%20Tools%20and%20Technologies/Assignment1/Assignment1/Assignment-1.ipynb#X14sZmlsZQ%3D%3D?line=33'>34</a>\u001b[0m     current \u001b[39m=\u001b[39m stack\u001b[39m.\u001b[39mpop()\n\u001b[0;32m---> <a href='vscode-notebook-cell:/Users/dhruvakumaraklekar/vscode/Research%20Tools%20and%20Technologies/Assignment1/Assignment1/Assignment-1.ipynb#X14sZmlsZQ%3D%3D?line=34'>35</a>\u001b[0m     \u001b[39mprint\u001b[39m(current\u001b[39m.\u001b[39;49mvalue, end\u001b[39m=\u001b[39m\u001b[39m'\u001b[39m\u001b[39m \u001b[39m\u001b[39m'\u001b[39m)\n\u001b[1;32m     <a href='vscode-notebook-cell:/Users/dhruvakumaraklekar/vscode/Research%20Tools%20and%20Technologies/Assignment1/Assignment1/Assignment-1.ipynb#X14sZmlsZQ%3D%3D?line=35'>36</a>\u001b[0m     current \u001b[39m=\u001b[39m current\u001b[39m.\u001b[39mright\n\u001b[1;32m     <a href='vscode-notebook-cell:/Users/dhruvakumaraklekar/vscode/Research%20Tools%20and%20Technologies/Assignment1/Assignment1/Assignment-1.ipynb#X14sZmlsZQ%3D%3D?line=36'>37</a>\u001b[0m \u001b[39melse\u001b[39;00m:\n",
      "\u001b[0;31mAttributeError\u001b[0m: 'Node' object has no attribute 'value'"
     ]
    }
   ],
   "source": [
    "BT_1.display()"
   ]
  },
  {
   "cell_type": "code",
   "execution_count": 54,
   "metadata": {},
   "outputs": [
    {
     "name": "stdout",
     "output_type": "stream",
     "text": [
      "Stored integer values in increasing order:\n",
      "2\n",
      "3\n",
      "4\n",
      "5\n",
      "6\n",
      "7\n",
      "8\n"
     ]
    }
   ],
   "source": [
    "class TreeNode:\n",
    "    def __init__(self, value):\n",
    "        self.value = value\n",
    "        self.left = None\n",
    "        self.right = None\n",
    "\n",
    "class IntegerCollection:\n",
    "    def __init__(self):\n",
    "        self.root = None\n",
    "\n",
    "    def insert(self, value):\n",
    "        if self.root is None:\n",
    "            self.root = TreeNode(value)\n",
    "        else:\n",
    "            self._insert_recursive(self.root, value)\n",
    "\n",
    "    def _insert_recursive(self, node, value):\n",
    "        if value < node.value:\n",
    "            if node.left is None:\n",
    "                node.left = TreeNode(value)\n",
    "            else:\n",
    "                self._insert_recursive(node.left, value)\n",
    "        else:\n",
    "            if node.right is None:\n",
    "                node.right = TreeNode(value)\n",
    "            else:\n",
    "                self._insert_recursive(node.right, value)\n",
    "\n",
    "    def display(self):\n",
    "        self._display_in_order(self.root)\n",
    "\n",
    "    def _display_in_order(self, node):\n",
    "        if node:\n",
    "            self._display_in_order(node.left)\n",
    "            print(node.value)\n",
    "            self._display_in_order(node.right)\n",
    "\n",
    "# Usage example:\n",
    "if __name__ == \"__main__\":\n",
    "    collection = IntegerCollection()\n",
    "    collection.insert(5)\n",
    "    collection.insert(3)\n",
    "    collection.insert(7)\n",
    "    collection.insert(2)\n",
    "    collection.insert(4)\n",
    "    collection.insert(6)\n",
    "    collection.insert(8)\n",
    "\n",
    "    print(\"Stored integer values in increasing order:\")\n",
    "    collection.display()\n"
   ]
  },
  {
   "cell_type": "code",
   "execution_count": null,
   "metadata": {},
   "outputs": [],
   "source": []
  },
  {
   "cell_type": "code",
   "execution_count": null,
   "metadata": {},
   "outputs": [],
   "source": []
  }
 ],
 "metadata": {
  "kernelspec": {
   "display_name": "Python 3",
   "language": "python",
   "name": "python3"
  },
  "language_info": {
   "codemirror_mode": {
    "name": "ipython",
    "version": 3
   },
   "file_extension": ".py",
   "mimetype": "text/x-python",
   "name": "python",
   "nbconvert_exporter": "python",
   "pygments_lexer": "ipython3",
   "version": "3.9.6"
  },
  "orig_nbformat": 4
 },
 "nbformat": 4,
 "nbformat_minor": 2
}
