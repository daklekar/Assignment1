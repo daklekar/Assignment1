{
 "cells": [
  {
   "cell_type": "markdown",
   "metadata": {},
   "source": [
    "\n",
    "# **Research Tools and Technologies**\n",
    "## **Assignment-1**\n",
    "##### daklekar@uncc.edu\n",
    "### **Create a Python program creates a Binary Tree data structure.**\n",
    "   * For this assignment, you need to create your own class and you are not allowed to use an existing Python library (like the binarytree library, for example) for the functionality.\n",
    "   * The information to be stored is just an integer.\n",
    "   * Only two operations are required: insert() and display()\n",
    "      1. insert() takes one argument (an integer) to store the value\n",
    "      2. display() takes no arguments and uses the built-in print() function to display the stored integer values in increasing order\n",
    "   * You are to implement this as collection of objects and not simply as a sorted list.\n"
   ]
  },
  {
   "cell_type": "code",
   "execution_count": 170,
   "metadata": {},
   "outputs": [],
   "source": [
    "class BinTree:\n",
    "    def __init__(self, left, right):\n",
    "        self.left = None\n",
    "        self.right = None\n",
    "    def display(self):  \n",
    "        print(self.key)  \n",
    "        return self.key\n",
    "    def insert (self, key):\n",
    "        self.key= key\n",
    "        \n",
    "    \n",
    "  "
   ]
  },
  {
   "cell_type": "code",
   "execution_count": 171,
   "metadata": {},
   "outputs": [
    {
     "data": {
      "text/plain": [
       "[<__main__.BinTree at 0x107dfa550>,\n",
       " <__main__.BinTree at 0x107dfaac0>,\n",
       " <__main__.BinTree at 0x107dfa310>,\n",
       " <__main__.BinTree at 0x107dfa970>,\n",
       " <__main__.BinTree at 0x107dfaa90>,\n",
       " <__main__.BinTree at 0x107dfa220>,\n",
       " <__main__.BinTree at 0x107dfacd0>,\n",
       " <__main__.BinTree at 0x107dfa9a0>,\n",
       " <__main__.BinTree at 0x107dfa940>]"
      ]
     },
     "execution_count": 171,
     "metadata": {},
     "output_type": "execute_result"
    }
   ],
   "source": [
    "members = [1,4,2,7,8,9,5,3,6]\n",
    "obj_members = []\n",
    "for element in members:\n",
    "    obj_class= BinTree(None, None)\n",
    "    obj_class.insert(element)\n",
    "    obj_members.append(obj_class)\n",
    "\n",
    "obj_members"
   ]
  },
  {
   "cell_type": "code",
   "execution_count": 1,
   "metadata": {},
   "outputs": [
    {
     "name": "stdout",
     "output_type": "stream",
     "text": [
      "Stored integer values in increasing order:\n",
      "2\n",
      "3\n",
      "4\n",
      "5\n",
      "6\n",
      "7\n",
      "8\n"
     ]
    }
   ],
   "source": [
    "class TreeNode:\n",
    "    def __init__(self, value):\n",
    "        self.value = value\n",
    "        self.left = None\n",
    "        self.right = None\n",
    "\n",
    "class IntegerCollection:\n",
    "    def __init__(self):\n",
    "        self.root = None\n",
    "\n",
    "    def insert(self, value):\n",
    "        if self.root is None:\n",
    "            self.root = TreeNode(value)\n",
    "        else:\n",
    "            self._insert_recursive(self.root, value)\n",
    "\n",
    "    def _insert_recursive(self, node, value):\n",
    "        if value < node.value:\n",
    "            if node.left is None:\n",
    "                node.left = TreeNode(value)\n",
    "            else:\n",
    "                self._insert_recursive(node.left, value)\n",
    "        else:\n",
    "            if node.right is None:\n",
    "                node.right = TreeNode(value)\n",
    "            else:\n",
    "                self._insert_recursive(node.right, value)\n",
    "\n",
    "    def display(self):\n",
    "        self._display_in_order(self.root)\n",
    "\n",
    "    def _display_in_order(self, node):\n",
    "        if node:\n",
    "            self._display_in_order(node.left)\n",
    "            print(node.value)\n",
    "            self._display_in_order(node.right)\n",
    "\n",
    "# Usage example:\n",
    "if __name__ == \"__main__\":\n",
    "    collection = IntegerCollection()\n",
    "    collection.insert(5)\n",
    "    collection.insert(3)\n",
    "    collection.insert(7)\n",
    "    collection.insert(2)\n",
    "    collection.insert(4)\n",
    "    collection.insert(6)\n",
    "    collection.insert(8)\n",
    "\n",
    "    print(\"Stored integer values in increasing order:\")\n",
    "    collection.display()\n"
   ]
  },
  {
   "cell_type": "code",
   "execution_count": null,
   "metadata": {},
   "outputs": [],
   "source": []
  }
 ],
 "metadata": {
  "kernelspec": {
   "display_name": "Python 3",
   "language": "python",
   "name": "python3"
  },
  "language_info": {
   "codemirror_mode": {
    "name": "ipython",
    "version": 3
   },
   "file_extension": ".py",
   "mimetype": "text/x-python",
   "name": "python",
   "nbconvert_exporter": "python",
   "pygments_lexer": "ipython3",
   "version": "3.9.6"
  },
  "orig_nbformat": 4
 },
 "nbformat": 4,
 "nbformat_minor": 2
}
