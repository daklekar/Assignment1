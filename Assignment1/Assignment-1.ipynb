{
 "cells": [
  {
   "cell_type": "markdown",
   "metadata": {},
   "source": [
    "\n",
    "# **Research Tools and Technologies**\n",
    "## **Assignment-1**\n",
    "##### daklekar@uncc.edu\n",
    "### **Create a Python program creates a Binary Tree data structure.**\n",
    "   * For this assignment, you need to create your own class and you are not allowed to use an existing Python library (like the binarytree library, for example) for the functionality.\n",
    "   * The information to be stored is just an integer.\n",
    "   * Only two operations are required: insert() and display()\n",
    "      1. insert() takes one argument (an integer) to store the value\n",
    "      2. display() takes no arguments and uses the built-in print() function to display the stored integer values in increasing order\n",
    "   * You are to implement this as collection of objects and not simply as a sorted list.\n"
   ]
  },
  {
   "cell_type": "code",
   "execution_count": null,
   "metadata": {},
   "outputs": [],
   "source": [
    "class BinTree:\n",
    "    def __init__(self, left, right, key):\n",
    "        self.left = None\n",
    "        self.right = None\n",
    "        self.key = 0\n",
    "\n",
    "    def insert(self, int num):\n",
    "\n",
    "    def display(self):\n",
    "\n",
    "\n"
   ]
  },
  {
   "cell_type": "markdown",
   "metadata": {},
   "source": []
  }
 ],
 "metadata": {
  "kernelspec": {
   "display_name": "Python 3",
   "language": "python",
   "name": "python3"
  },
  "language_info": {
   "codemirror_mode": {
    "name": "ipython",
    "version": 3
   },
   "file_extension": ".py",
   "mimetype": "text/x-python",
   "name": "python",
   "nbconvert_exporter": "python",
   "pygments_lexer": "ipython3",
   "version": "3.11.4"
  },
  "orig_nbformat": 4
 },
 "nbformat": 4,
 "nbformat_minor": 2
}
