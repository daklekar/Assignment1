{
 "cells": [
  {
   "cell_type": "code",
   "execution_count": 11,
   "metadata": {},
   "outputs": [],
   "source": [
    "class Node:\n",
    "    def __init__(self, val):\n",
    "        self.left = None\n",
    "        self.right = None\n",
    "        self.key = val\n",
    "    def display(self):  \n",
    "        print(self.key)  \n",
    "        return self.key\n",
    "\n",
    "\n",
    "class BinaryTree:\n",
    "    def __init__(self):\n",
    "        self.root = None\n",
    "\n",
    "    def insert(self, dummy):\n",
    "        if (self.root == None):\n",
    "            self.root = Node(dummy)\n",
    "        else:\n",
    "            self._insert_recursive(self.root, dummy)\n",
    "    \n",
    "    def _insert_recursive(self, node, dummy):\n",
    "            if dummy > node.key:            \n",
    "                if node.right == None:\n",
    "                    node.right = Node(dummy)\n",
    "                else:\n",
    "                    self._insert_recursive(node.right, dummy)\n",
    "            if dummy <= self.root.key:\n",
    "                if node.left == None:\n",
    "                    node.left = Node(dummy)\n",
    "                else:\n",
    "                    self._insert_recursive(node.left, dummy)    \n",
    "\n",
    "    def _display_recursive(self, node):\n",
    "        if node:\n",
    "            self._display_recursive(node.left)\n",
    "            print(node.key)\n",
    "            self._display_recursive(node.right)\n",
    "    \n",
    "    def display(self):\n",
    "        self._display_recursive(self.root)"
   ]
  },
  {
   "cell_type": "code",
   "execution_count": 13,
   "metadata": {},
   "outputs": [
    {
     "name": "stdout",
     "output_type": "stream",
     "text": [
      "3\n",
      "4\n",
      "5\n",
      "8\n"
     ]
    }
   ],
   "source": [
    "BT_1 = BinaryTree()\n",
    "BT_1.insert(5)\n",
    "BT_1.insert(4)\n",
    "BT_1.insert(3)\n",
    "BT_1.insert(8)\n",
    "\n",
    "BT_1.display()"
   ]
  }
 ],
 "metadata": {
  "kernelspec": {
   "display_name": "Python 3",
   "language": "python",
   "name": "python3"
  },
  "language_info": {
   "codemirror_mode": {
    "name": "ipython",
    "version": 3
   },
   "file_extension": ".py",
   "mimetype": "text/x-python",
   "name": "python",
   "nbconvert_exporter": "python",
   "pygments_lexer": "ipython3",
   "version": "3.9.6"
  },
  "orig_nbformat": 4
 },
 "nbformat": 4,
 "nbformat_minor": 2
}
