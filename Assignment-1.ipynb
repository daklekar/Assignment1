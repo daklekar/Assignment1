{
 "cells": [
  {
   "cell_type": "markdown",
   "metadata": {},
   "source": [
    "\n",
    "# **Research Tools and Technologies**\n",
    "## **Assignment-1**\n",
    "##### daklekar@uncc.edu\n",
    "### **Create a Python program creates a Binary Tree data structure.**\n",
    "   * For this assignment, you need to create your own class and you are not allowed to use an existing Python library (like the binarytree library, for example) for the functionality.\n",
    "   * The information to be stored is just an integer.\n",
    "   * Only two operations are required: insert() and display()\n",
    "      1. insert() takes one argument (an integer) to store the value\n",
    "      2. display() takes no arguments and uses the built-in print() function to display the stored integer values in increasing order\n",
    "   * You are to implement this as collection of objects and not simply as a sorted list.\n"
   ]
  },
  {
   "cell_type": "code",
   "execution_count": 9,
   "metadata": {},
   "outputs": [],
   "source": [
    "class BinTree:\n",
    "    def __init__(self, left, right, key):\n",
    "        self.left = None\n",
    "        self.right = None\n",
    "        self.key = 0\n",
    "    def id(self, key):\n",
    "        self.key=key\n",
    "        print(key)    "
   ]
  },
  {
   "cell_type": "code",
   "execution_count": null,
   "metadata": {},
   "outputs": [],
   "source": []
  },
  {
   "cell_type": "code",
   "execution_count": null,
   "metadata": {},
   "outputs": [],
   "source": [
    "def insert (num):\n",
    "    pass"
   ]
  },
  {
   "cell_type": "code",
   "execution_count": null,
   "metadata": {},
   "outputs": [],
   "source": [
    "def display(self):\n",
    "    pass"
   ]
  },
  {
   "cell_type": "code",
   "execution_count": 17,
   "metadata": {},
   "outputs": [
    {
     "ename": "TypeError",
     "evalue": "__init__() missing 2 required positional arguments: 'right' and 'key'",
     "output_type": "error",
     "traceback": [
      "\u001b[0;31m---------------------------------------------------------------------------\u001b[0m",
      "\u001b[0;31mTypeError\u001b[0m                                 Traceback (most recent call last)",
      "\u001b[1;32m/Users/dhruvakumaraklekar/vscode/Research Tools and Technologies/Assignment1/Assignment1/Assignment-1.ipynb Cell 6\u001b[0m line \u001b[0;36m4\n\u001b[1;32m      <a href='vscode-notebook-cell:/Users/dhruvakumaraklekar/vscode/Research%20Tools%20and%20Technologies/Assignment1/Assignment1/Assignment-1.ipynb#W4sZmlsZQ%3D%3D?line=1'>2</a>\u001b[0m obj_members \u001b[39m=\u001b[39m []\n\u001b[1;32m      <a href='vscode-notebook-cell:/Users/dhruvakumaraklekar/vscode/Research%20Tools%20and%20Technologies/Assignment1/Assignment1/Assignment-1.ipynb#W4sZmlsZQ%3D%3D?line=2'>3</a>\u001b[0m \u001b[39mfor\u001b[39;00m element \u001b[39min\u001b[39;00m members:\n\u001b[0;32m----> <a href='vscode-notebook-cell:/Users/dhruvakumaraklekar/vscode/Research%20Tools%20and%20Technologies/Assignment1/Assignment1/Assignment-1.ipynb#W4sZmlsZQ%3D%3D?line=3'>4</a>\u001b[0m     element \u001b[39m=\u001b[39m BinTree(element)\n\u001b[1;32m      <a href='vscode-notebook-cell:/Users/dhruvakumaraklekar/vscode/Research%20Tools%20and%20Technologies/Assignment1/Assignment1/Assignment-1.ipynb#W4sZmlsZQ%3D%3D?line=4'>5</a>\u001b[0m     obj_members\u001b[39m.\u001b[39mappend(element)\n\u001b[1;32m      <a href='vscode-notebook-cell:/Users/dhruvakumaraklekar/vscode/Research%20Tools%20and%20Technologies/Assignment1/Assignment1/Assignment-1.ipynb#W4sZmlsZQ%3D%3D?line=6'>7</a>\u001b[0m drsaqib(\u001b[39mNone\u001b[39;00m, chaitanya(vineet(\u001b[39mNone\u001b[39;00m, nahush()), dhruv(swayam(), naseer())))\n",
      "\u001b[0;31mTypeError\u001b[0m: __init__() missing 2 required positional arguments: 'right' and 'key'"
     ]
    }
   ],
   "source": [
    "members = ['vineet', 'nahush', 'naseer', 'chaitanya', 'drsaqib', 'dhruv', 'swayam' ]\n",
    "obj_members = []\n",
    "for element in members:\n",
    "    element = BinTree(element)\n",
    "    obj_members.append(element)\n",
    "\n",
    "drsaqib(None, chaitanya(vineet(None, nahush()), dhruv(swayam(), naseer())))"
   ]
  }
 ],
 "metadata": {
  "kernelspec": {
   "display_name": "Python 3",
   "language": "python",
   "name": "python3"
  },
  "language_info": {
   "codemirror_mode": {
    "name": "ipython",
    "version": 3
   },
   "file_extension": ".py",
   "mimetype": "text/x-python",
   "name": "python",
   "nbconvert_exporter": "python",
   "pygments_lexer": "ipython3",
   "version": "3.9.6"
  },
  "orig_nbformat": 4
 },
 "nbformat": 4,
 "nbformat_minor": 2
}
